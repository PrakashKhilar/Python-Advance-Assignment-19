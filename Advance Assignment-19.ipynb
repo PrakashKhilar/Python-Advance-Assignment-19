{
 "cells": [
  {
   "cell_type": "markdown",
   "id": "ed592fa9",
   "metadata": {},
   "source": [
    "# Advance Assignment-19"
   ]
  },
  {
   "cell_type": "code",
   "execution_count": 1,
   "id": "84b0c3e4",
   "metadata": {},
   "outputs": [],
   "source": [
    "# Q1. Define the relationship between a class and its instances. Is it a one-to-one or a one-to-many partnership, for example?"
   ]
  },
  {
   "cell_type": "code",
   "execution_count": null,
   "id": "1f6cea93",
   "metadata": {},
   "outputs": [],
   "source": [
    "# Ans;\n",
    "\n",
    "Relationship between a class and its instances is a one to many partnership. \n",
    "Object is a physical entity or real word entity. An object occupies space in memory. \n",
    "\n",
    "Example:-banana,chair,pen etc are objects. \n",
    "Class is a logical entity which does not exist in real world. Or we can say that class is a blueprint to create objects of similiar types. \n",
    "A class does not take space in memory. Examples:-fruits,furniture,vehicles etc."
   ]
  },
  {
   "cell_type": "code",
   "execution_count": 2,
   "id": "36d93678",
   "metadata": {},
   "outputs": [],
   "source": [
    "# Q2. What kind of data is held only in an instance?"
   ]
  },
  {
   "cell_type": "code",
   "execution_count": 3,
   "id": "aca8574a",
   "metadata": {},
   "outputs": [],
   "source": [
    "# Ans: Instance objects contains the Instance variables which are specific to that specific Instance object."
   ]
  },
  {
   "cell_type": "code",
   "execution_count": 4,
   "id": "9197d078",
   "metadata": {},
   "outputs": [],
   "source": [
    "# Q3. What kind of knowledge is stored in a class?"
   ]
  },
  {
   "cell_type": "code",
   "execution_count": null,
   "id": "be13bcde",
   "metadata": {},
   "outputs": [],
   "source": [
    "# Ans;\n",
    "\n",
    "Class creates a user-defined data structure, which holds its own data members and member functions, which can be accessed and used by creating an instance of that class.\n",
    "A class is like a blueprint for an object. Class is a logical entity which does not exist in real world Or we can say that class is a blueprint to create objects of similiar types. \n",
    "\n",
    "A class does not take space in memory. \n",
    "\n",
    "Examples:-fruits,furniture,vehicles etc."
   ]
  },
  {
   "cell_type": "code",
   "execution_count": null,
   "id": "bdc327ef",
   "metadata": {},
   "outputs": [],
   "source": [
    "# Q4. What exactly is a method, and how is it different from a regular function?"
   ]
  },
  {
   "cell_type": "code",
   "execution_count": null,
   "id": "7e5f98ed",
   "metadata": {},
   "outputs": [],
   "source": [
    "# Ans;\n",
    "\n",
    "The methods with a class can be used to access the insatnce variables of its instance. \n",
    "So,the object's state can be modified by its method. Function can't access the attributes of an instance of a class or can't modify the state of the object. \n",
    "\n",
    "A function is independent, whereas a method is a function linked with an object. Explicit data is passed on to a function.\n",
    "Whereas a method completely passes the object on which it was called in the program.\n",
    "\n",
    "A method is Object-oriented programming while a function has standalone functionality"
   ]
  },
  {
   "cell_type": "code",
   "execution_count": 5,
   "id": "7ae15416",
   "metadata": {},
   "outputs": [],
   "source": [
    "# Q5. Is inheritance supported in Python, and if so, what is the syntax?"
   ]
  },
  {
   "cell_type": "code",
   "execution_count": null,
   "id": "d9ffb1a0",
   "metadata": {},
   "outputs": [],
   "source": [
    "# Ans: \n",
    "\n",
    "Yes,Python supports inheritance. The Types of Inheritence Supported by Python are:\n",
    "\n",
    "1. Simple Inheritence\n",
    "2. Multiple Inheritence\n",
    "3. Multilevel lInheritence\n",
    "4. Hybrid Inheritence\n",
    "4. Hierracial Inheritence"
   ]
  },
  {
   "cell_type": "code",
   "execution_count": 6,
   "id": "285d6ba4",
   "metadata": {},
   "outputs": [],
   "source": [
    "class Person:\n",
    "    def __init__(self, fname, lname):\n",
    "        self.first_name = fname\n",
    "        self.last_name = lname\n",
    "class Student(Person):\n",
    "    pass"
   ]
  },
  {
   "cell_type": "code",
   "execution_count": 7,
   "id": "539b0c34",
   "metadata": {},
   "outputs": [],
   "source": [
    "# Q6. How much encapsulation (making instance or class variables private) does Python support?"
   ]
  },
  {
   "cell_type": "code",
   "execution_count": null,
   "id": "09a01bb6",
   "metadata": {},
   "outputs": [],
   "source": [
    "# Ans;\n",
    "\n",
    "Encapsulation describes the idea of wrapping data and the methods that work on data within one unit. \n",
    "This puts restrictions on accessing variables and methods directly and can prevent the accidental modification of data. \n",
    "\n",
    "To prevent accidental change, an objects variable can only be changed by an objects method."
   ]
  },
  {
   "cell_type": "code",
   "execution_count": 8,
   "id": "f5be7a81",
   "metadata": {},
   "outputs": [],
   "source": [
    "# Q7. How do you distinguish between a class variable and an instance variable?"
   ]
  },
  {
   "cell_type": "code",
   "execution_count": null,
   "id": "662e2535",
   "metadata": {},
   "outputs": [],
   "source": [
    "# Ans;\n",
    "\n",
    "The Class Attribute is available to all the instance objects of that class whereas Instance Attributes are accessible only to the object or Instance of that class.\n",
    "\n",
    "A single copy of Class attributes is maintained by pvm at the class level Whereas different copies of instance attributes are maintained by pvm at objects/instance level."
   ]
  },
  {
   "cell_type": "code",
   "execution_count": null,
   "id": "1c438b16",
   "metadata": {},
   "outputs": [],
   "source": [
    "# Q8. When, if ever, can self be included in a class's method definitions?"
   ]
  },
  {
   "cell_type": "code",
   "execution_count": null,
   "id": "dfa26eb2",
   "metadata": {},
   "outputs": [],
   "source": [
    "# Ans: Yes, self can be included in class method definitions to access the instance variables inside class methods."
   ]
  },
  {
   "cell_type": "code",
   "execution_count": 9,
   "id": "84d65091",
   "metadata": {},
   "outputs": [],
   "source": [
    "# Q9. What is the difference between the __add__ and the __radd__ methods ?"
   ]
  },
  {
   "cell_type": "code",
   "execution_count": null,
   "id": "9e95dc6b",
   "metadata": {},
   "outputs": [],
   "source": [
    "# Ans;\n",
    "\n",
    "Entering __radd__ Python will first try __add__(), and if that returns Not Implemented Python will check if the right-hand operand implements __radd__,and if it does.\n",
    "It will call __radd__() rather than raising a TypeError.\n",
    "\n",
    "\n",
    "The expression a+b is internally translated to the method call a.add(b). But if a and b are of different types, it is possible that a's implementation of addition cannot deal with objects of b's type (or maybe a does not have a add method, at all). \n",
    "So, if a.add(b) fails, Python tries b.radd(a) instead, to see if b's implementation can deal with objects of a's type."
   ]
  },
  {
   "cell_type": "code",
   "execution_count": 10,
   "id": "fce78638",
   "metadata": {},
   "outputs": [],
   "source": [
    "# Q10. When is it necessary to use a reflection method? When do you not need it, even though you support the operation in question?"
   ]
  },
  {
   "cell_type": "code",
   "execution_count": null,
   "id": "9ce3fbf7",
   "metadata": {},
   "outputs": [],
   "source": [
    "# Ans;\n",
    "\n",
    "Reflection refers to the ability for code to be able to examine attributes about objects that might be passed as parameters to a function.\n",
    "For example, if we write type(obj) then Python will return an object which represents the type of obj. \n",
    "\n",
    "Using reflection, we can write one recursive reverse function that will work for strings, lists, and any other sequence that supports slicing and concatenation. \n",
    "If an obj is a reference to a string, then Python will return the str type object. \n",
    "\n",
    "Further, if we write str() we get a string which is the empty string. In other words, writing str() is the same thing as writing “”. Likewise, writing list() is the same thing as writing []."
   ]
  },
  {
   "cell_type": "code",
   "execution_count": 11,
   "id": "4d051399",
   "metadata": {},
   "outputs": [
    {
     "name": "stdout",
     "output_type": "stream",
     "text": [
      "x is not callable\n",
      "y is callable\n"
     ]
    }
   ],
   "source": [
    "x = 5\n",
    "\n",
    "def testFunction():\n",
    "  print(\"Test\")\n",
    "   \n",
    "y = testFunction\n",
    "\n",
    "if (callable(x)):\n",
    "    print(\"x is callable\")\n",
    "else:\n",
    "    print(\"x is not callable\")\n",
    "\n",
    "if (callable(y)):\n",
    "    print(\"y is callable\")\n",
    "else:\n",
    "    print(\"y is not callable\")"
   ]
  },
  {
   "cell_type": "code",
   "execution_count": 12,
   "id": "5e4f52ee",
   "metadata": {},
   "outputs": [],
   "source": [
    "# Q11. What is the __iadd__ method called?"
   ]
  },
  {
   "cell_type": "code",
   "execution_count": null,
   "id": "f5458c68",
   "metadata": {},
   "outputs": [],
   "source": [
    "# Ans;\n",
    "\n",
    "__iadd__ method is called when we use implementation like a+=b which is a.__iadd__(b)"
   ]
  },
  {
   "cell_type": "code",
   "execution_count": null,
   "id": "3562f2c4",
   "metadata": {},
   "outputs": [],
   "source": [
    "# Q12. Is the _ _init_ _ method inherited by subclasses?\n",
    "#     What do you do if you need to customize its behavior within a subclass ?"
   ]
  },
  {
   "cell_type": "code",
   "execution_count": null,
   "id": "e86003ab",
   "metadata": {},
   "outputs": [],
   "source": [
    "# Ans;\n",
    "\n",
    "Yes, __init__ method will be inherited by subclasses.\n",
    "If we want to customize its behaviour within a subclass, we can use super() method."
   ]
  }
 ],
 "metadata": {
  "kernelspec": {
   "display_name": "Python 3 (ipykernel)",
   "language": "python",
   "name": "python3"
  },
  "language_info": {
   "codemirror_mode": {
    "name": "ipython",
    "version": 3
   },
   "file_extension": ".py",
   "mimetype": "text/x-python",
   "name": "python",
   "nbconvert_exporter": "python",
   "pygments_lexer": "ipython3",
   "version": "3.9.12"
  }
 },
 "nbformat": 4,
 "nbformat_minor": 5
}
